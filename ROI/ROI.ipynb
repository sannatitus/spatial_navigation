{
 "cells": [
  {
   "cell_type": "code",
   "execution_count": 751,
   "id": "457f6f46-b3d9-43d6-83b4-686a31cfa8b2",
   "metadata": {},
   "outputs": [],
   "source": [
    "import cv2\n",
    "import numpy as np\n",
    "import matplotlib.pyplot as plt\n",
    "#from PIL import Image\n",
    "import pandas as pd # conda install pytables\n",
    "import os"
   ]
  },
  {
   "cell_type": "code",
   "execution_count": 815,
   "id": "a1be0aec-0361-4685-a476-db84cb088a05",
   "metadata": {},
   "outputs": [],
   "source": [
    "Data_dir = r'X:\\processed\\LondonZoo\\Jewel-wasp_Ampulex-compressa\\DLC_femaleandmale\\jwasp_femaleandmale-Sanna-2022-09-12\\videos'\n",
    "test_h5 = \"jwaspL_nectar-open-close_nectar2DLC_resnet50_jwasp_femaleandmaleSep12shuffle1_1000000.csv\"\n",
    "ROI_dir = r'X:\\processed\\LondonZoo\\Jewel-wasp_Ampulex-compressa\\DLC_femaleandmale\\jwasp_femaleandmale-Sanna-2022-09-12\\roi-coords'\n",
    "\n",
    "head = 0\n",
    "thorax = 1"
   ]
  },
  {
   "cell_type": "code",
   "execution_count": 816,
   "id": "a3c08ef5-8337-4fbf-832d-12124706cd21",
   "metadata": {},
   "outputs": [],
   "source": [
    "def read_dlc_csv(file_path):\n",
    "    \"\"\"\n",
    "    read .h5 files and return pandas dataframe and a list of bodyparts\n",
    "    \"\"\"\n",
    "    df = pd.read_csv(file_path)\n",
    "    \n",
    "    body_parts = np.array(df)[0]\n",
    "    body_parts = list(body_parts)\n",
    "    body_parts.remove('bodyparts')\n",
    "    \n",
    "    columns = np.array(df)[1]\n",
    "    data = np.array(df)[2:]\n",
    "    new_df = pd.DataFrame(data=data, columns=columns)\n",
    "    new_df = new_df.drop(['coords'], axis=1)\n",
    "    \n",
    "    return new_df, body_parts"
   ]
  },
  {
   "cell_type": "code",
   "execution_count": 817,
   "id": "7d42c07a-1985-4ba1-be78-e363cb4d85ac",
   "metadata": {},
   "outputs": [
    {
     "name": "stderr",
     "output_type": "stream",
     "text": [
      "C:\\Users\\Sanna\\AppData\\Local\\Temp\\ipykernel_17980\\1762987095.py:5: DtypeWarning: Columns (0,1,2,3,4,5,6) have mixed types. Specify dtype option on import or set low_memory=False.\n",
      "  df = pd.read_csv(file_path)\n"
     ]
    }
   ],
   "source": [
    "dlc_data, bodyparts = read_dlc_csv(os.path.join(Data_dir, test_h5))"
   ]
  },
  {
   "cell_type": "code",
   "execution_count": 818,
   "id": "0cce3231-6b18-4e84-8629-75cb50bbbaf3",
   "metadata": {},
   "outputs": [],
   "source": [
    "def convert_dataframe_to_array_and_return_column_info(df, bodyparts):\n",
    "    column_names = [i+e for (i, e) in zip(bodyparts, list(df.columns))]\n",
    "    column_index = dict([(key, value) for key, value in zip(column_names, range(len(column_names)))])\n",
    "    return np.array(df).T, column_index"
   ]
  },
  {
   "cell_type": "code",
   "execution_count": 819,
   "id": "6fa5fbd7-073c-4d9e-9188-bf145493211c",
   "metadata": {},
   "outputs": [],
   "source": [
    "dlc_data_array, column_dict = convert_dataframe_to_array_and_return_column_info(dlc_data, bodyparts)"
   ]
  },
  {
   "cell_type": "code",
   "execution_count": 820,
   "id": "0b950004-cf4c-42a4-b362-409acdee8eec",
   "metadata": {},
   "outputs": [],
   "source": [
    "def read_csv(file_path):\n",
    "    df = pd.read_csv(file_path)\n",
    "    df = df.drop(['Unnamed: 0'], axis=1)\n",
    "    return df"
   ]
  },
  {
   "cell_type": "code",
   "execution_count": 821,
   "id": "8fd8a959-36ae-441d-b4a5-5ffa870e623f",
   "metadata": {},
   "outputs": [],
   "source": [
    "ROI_meta = read_csv(os.path.join(ROI_dir, test_h5))"
   ]
  },
  {
   "cell_type": "code",
   "execution_count": 822,
   "id": "bde1d9ce-efc6-4da6-8923-bef6f7c15fee",
   "metadata": {},
   "outputs": [],
   "source": [
    "def inside(x_array, xmin, xmax, y_array, ymin, ymax):\n",
    "    # where in bounds locations\n",
    "    x_array = x_array.astype('float64')\n",
    "    y_array = y_array.astype('float64')\n",
    "    locations_inbounds = np.where((xmin < x_array) & (x_array < xmax) & (ymin < y_array) & (y_array < ymax))\n",
    "    return locations_inbounds[0]"
   ]
  },
  {
   "cell_type": "code",
   "execution_count": 823,
   "id": "4a2b2cc4-8a98-475e-a530-08fdd5ead916",
   "metadata": {},
   "outputs": [],
   "source": [
    "enclosureROI_meta = ROI_meta.iloc[0]\n",
    "xmin = enclosureROI_meta['TLX'] \n",
    "xmax = enclosureROI_meta['BRX'] \n",
    "ymin = enclosureROI_meta['TLY'] \n",
    "ymax = enclosureROI_meta['BRY'] \n",
    "inbounds = inside(dlc_data_array[column_dict['thoraxx']], xmin, xmax, dlc_data_array[column_dict['thoraxy']], ymin, ymax)"
   ]
  },
  {
   "cell_type": "code",
   "execution_count": 824,
   "id": "fb1fed27-0c69-4a3e-a1f4-0f67495e9e37",
   "metadata": {},
   "outputs": [],
   "source": [
    "x_array = inbounds_xcoords = dlc_data_array[column_dict['thoraxx']][inbounds].astype('float64')\n",
    "y_array = inbounds_ycoords = dlc_data_array[column_dict['thoraxy']][inbounds].astype('float64') "
   ]
  },
  {
   "cell_type": "code",
   "execution_count": 825,
   "id": "72d3d149-ee28-409a-baa5-0a494bf0a168",
   "metadata": {},
   "outputs": [],
   "source": [
    "data_list = []\n",
    "for i in range(len(ROI_meta['ROI'])-1):\n",
    "    meta = ROI_meta.iloc[i+1]\n",
    "    xmin = meta['TLX'] \n",
    "    xmax = meta['BRX'] \n",
    "    ymin = meta['TLY'] \n",
    "    ymax = meta['BRY']\n",
    "    column_name = meta['ROI']\n",
    "    in_ROI = inside(inbounds_xcoords, xmin, xmax, inbounds_ycoords, ymin, ymax)\n",
    "    in_ROI_percentage = len(in_ROI)/len(inbounds)*100\n",
    "    data_list.append([column_name, in_ROI_percentage])"
   ]
  },
  {
   "cell_type": "code",
   "execution_count": 826,
   "id": "16c89fa3-5798-435f-ab90-26fdd66bef3a",
   "metadata": {},
   "outputs": [],
   "source": [
    "xminlist=[]\n",
    "xmaxlist=[]\n",
    "yminlist=[]\n",
    "ymaxlist=[]\n",
    "for i in range(len(ROI_meta['ROI'])-1):\n",
    "    meta = ROI_meta.iloc[i+1]\n",
    "    xminlist.append(meta['TLX'])\n",
    "    xmaxlist.append(meta['BRX'])\n",
    "    yminlist.append(meta['TLY'])\n",
    "    ymaxlist.append(meta['BRY'])"
   ]
  },
  {
   "cell_type": "code",
   "execution_count": 827,
   "id": "f45f8715-0e1b-40b7-9662-2f50945b418c",
   "metadata": {},
   "outputs": [],
   "source": [
    "processed_data = np.array(data_list)\n",
    "columns = processed_data.T[0]\n",
    "data = processed_data.T[1]"
   ]
  },
  {
   "cell_type": "code",
   "execution_count": 828,
   "id": "980a5871-5b7b-432e-9911-1655792aa8cc",
   "metadata": {},
   "outputs": [
    {
     "data": {
      "text/plain": [
       "array([['tube', '0.0'],\n",
       "       ['water_open', '0.0'],\n",
       "       ['water_box', '0.0'],\n",
       "       ['control_box', '0.11855240753526473'],\n",
       "       ['nectar1_box', '0.013022336993510946'],\n",
       "       ['nectar2_box', '0.006634020732543312'],\n",
       "       ['nectar2_open', '0.006634020732543312']], dtype='<U32')"
      ]
     },
     "execution_count": 828,
     "metadata": {},
     "output_type": "execute_result"
    }
   ],
   "source": [
    "processed_data"
   ]
  },
  {
   "cell_type": "code",
   "execution_count": null,
   "id": "27c47efe-34e6-4f4f-bac7-4f1d2f3d011e",
   "metadata": {},
   "outputs": [],
   "source": [
    "# need to add validation step: \n",
    "    ## % occupation of(anything within enclosure but not tube/water_box/control_box,nectar1_box/nectar2_box + tube + water_box + control_box + nectar1_box + nectar2_box) =1 \n",
    "\n",
    "    ### np.where(((xminlist[0] < x_array) & (x_array < xmaxlist[0]) & (yminlist[0] < y_array) & (y_array < ymaxlist[0])) & ((xminlist[1] < x_array) & (x_array < xmaxlist[1]) & (yminlist[1] < y_array) & (y_array < ymaxlist[1])))\n",
    "\n",
    "\n",
    "    ### total_not_in_ROI = np.where((xminlist[0] > x_array) & (x_array > xmaxlist[0]) & (xminlist[1] > x_array) & (x_array > xmaxlist[1]) & (xminlist[2] > x_\n",
    "\n",
    "    ###total_in_ROI = np.sum(processed_data.T[1].astype('float64'))"
   ]
  }
 ],
 "metadata": {
  "kernelspec": {
   "display_name": "Python 3 (ipykernel)",
   "language": "python",
   "name": "python3"
  },
  "language_info": {
   "codemirror_mode": {
    "name": "ipython",
    "version": 3
   },
   "file_extension": ".py",
   "mimetype": "text/x-python",
   "name": "python",
   "nbconvert_exporter": "python",
   "pygments_lexer": "ipython3",
   "version": "3.9.12"
  }
 },
 "nbformat": 4,
 "nbformat_minor": 5
}
