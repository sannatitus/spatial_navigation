{
 "cells": [
  {
   "cell_type": "code",
   "execution_count": 14,
   "id": "32b99cbe-9658-429a-bc61-23483dced9f7",
   "metadata": {},
   "outputs": [],
   "source": [
    "import cv2\n",
    "import numpy as np\n",
    "import matplotlib.pyplot as plt\n",
    "#from PIL import Image\n",
    "import pandas as pd # conda install pytables\n",
    "import os"
   ]
  },
  {
   "cell_type": "code",
   "execution_count": 260,
   "id": "a1be0aec-0361-4685-a476-db84cb088a05",
   "metadata": {
    "tags": []
   },
   "outputs": [],
   "source": [
    "Data_dir = r'C:\\Users\\Sanna\\Desktop\\cricket_femaleandmale-Sanna-2023-01-03\\videos'\n",
    "test_h5 = \"cricketW_spotato-open-close_food2DLC_resnet50_cricket_femaleandmaleJan3shuffle1_500000.csv\"\n",
    "ROI_dir = r'C:\\Users\\Sanna\\Desktop\\cricket_femaleandmale-Sanna-2023-01-03\\roi-coords'\n",
    "\n",
    "head = 0\n",
    "thorax = 1"
   ]
  },
  {
   "cell_type": "code",
   "execution_count": 261,
   "id": "a3c08ef5-8337-4fbf-832d-12124706cd21",
   "metadata": {},
   "outputs": [],
   "source": [
    "def read_dlc_csv(file_path):\n",
    "    \"\"\"\n",
    "    read .h5 files and return pandas dataframe and a list of bodyparts\n",
    "    \"\"\"\n",
    "    df = pd.read_csv(file_path)\n",
    "    \n",
    "    body_parts = np.array(df)[0]\n",
    "    body_parts = list(body_parts)\n",
    "    body_parts.remove('bodyparts')\n",
    "    \n",
    "    columns = np.array(df)[1]\n",
    "    data = np.array(df)[2:]\n",
    "    new_df = pd.DataFrame(data=data, columns=columns)\n",
    "    new_df = new_df.drop(['coords'], axis=1)\n",
    "    \n",
    "    return new_df, body_parts"
   ]
  },
  {
   "cell_type": "code",
   "execution_count": 262,
   "id": "7d42c07a-1985-4ba1-be78-e363cb4d85ac",
   "metadata": {},
   "outputs": [
    {
     "name": "stderr",
     "output_type": "stream",
     "text": [
      "C:\\Users\\Sanna\\AppData\\Local\\Temp\\ipykernel_11968\\1762987095.py:5: DtypeWarning: Columns (0,1,2,3,4,5,6) have mixed types. Specify dtype option on import or set low_memory=False.\n",
      "  df = pd.read_csv(file_path)\n"
     ]
    }
   ],
   "source": [
    "dlc_data, bodyparts = read_dlc_csv(os.path.join(Data_dir, test_h5))"
   ]
  },
  {
   "cell_type": "code",
   "execution_count": 263,
   "id": "0cce3231-6b18-4e84-8629-75cb50bbbaf3",
   "metadata": {},
   "outputs": [],
   "source": [
    "def convert_dataframe_to_array_and_return_column_info(df, bodyparts):\n",
    "    column_names = [i+e for (i, e) in zip(bodyparts, list(df.columns))]\n",
    "    column_index = dict([(key, value) for key, value in zip(column_names, range(len(column_names)))])\n",
    "    return np.array(df).T, column_index"
   ]
  },
  {
   "cell_type": "code",
   "execution_count": 264,
   "id": "6fa5fbd7-073c-4d9e-9188-bf145493211c",
   "metadata": {},
   "outputs": [],
   "source": [
    "dlc_data_array, column_dict = convert_dataframe_to_array_and_return_column_info(dlc_data, bodyparts)"
   ]
  },
  {
   "cell_type": "code",
   "execution_count": 265,
   "id": "0b950004-cf4c-42a4-b362-409acdee8eec",
   "metadata": {},
   "outputs": [],
   "source": [
    "def read_csv(file_path):\n",
    "    df = pd.read_csv(file_path)\n",
    "    df = df.drop(['Unnamed: 0'], axis=1)\n",
    "    return df"
   ]
  },
  {
   "cell_type": "code",
   "execution_count": 266,
   "id": "8fd8a959-36ae-441d-b4a5-5ffa870e623f",
   "metadata": {},
   "outputs": [],
   "source": [
    "ROI_meta = read_csv(os.path.join(ROI_dir, test_h5))"
   ]
  },
  {
   "cell_type": "code",
   "execution_count": 267,
   "id": "bde1d9ce-efc6-4da6-8923-bef6f7c15fee",
   "metadata": {},
   "outputs": [],
   "source": [
    "def inside(x_array, xmin, xmax, y_array, ymin, ymax):\n",
    "    # where in bounds locations\n",
    "    x_array = x_array.astype('float64')\n",
    "    y_array = y_array.astype('float64')\n",
    "    locations_inbounds = np.where((xmin < x_array) & (x_array < xmax) & (ymin < y_array) & (y_array < ymax))\n",
    "    return locations_inbounds[0]"
   ]
  },
  {
   "cell_type": "code",
   "execution_count": 268,
   "id": "4a2b2cc4-8a98-475e-a530-08fdd5ead916",
   "metadata": {},
   "outputs": [],
   "source": [
    "enclosureROI_meta = ROI_meta.iloc[0]\n",
    "xmin = enclosureROI_meta['TLX'] \n",
    "xmax = enclosureROI_meta['BRX'] \n",
    "ymin = enclosureROI_meta['TLY'] \n",
    "ymax = enclosureROI_meta['BRY'] \n",
    "inbounds = inside(dlc_data_array[column_dict['thoraxx']], xmin, xmax, dlc_data_array[column_dict['thoraxy']], ymin, ymax)"
   ]
  },
  {
   "cell_type": "code",
   "execution_count": 269,
   "id": "fb1fed27-0c69-4a3e-a1f4-0f67495e9e37",
   "metadata": {},
   "outputs": [],
   "source": [
    "x_array = inbounds_xcoords = dlc_data_array[column_dict['thoraxx']][inbounds].astype('float64')\n",
    "y_array = inbounds_ycoords = dlc_data_array[column_dict['thoraxy']][inbounds].astype('float64') "
   ]
  },
  {
   "cell_type": "code",
   "execution_count": 270,
   "id": "72d3d149-ee28-409a-baa5-0a494bf0a168",
   "metadata": {},
   "outputs": [],
   "source": [
    "data_list = []\n",
    "for i in range(len(ROI_meta['ROI'])-1):\n",
    "    meta = ROI_meta.iloc[i+1]\n",
    "    xmin = meta['TLX'] \n",
    "    xmax = meta['BRX'] \n",
    "    ymin = meta['TLY'] \n",
    "    ymax = meta['BRY']\n",
    "    column_name = meta['ROI']\n",
    "    in_ROI = inside(inbounds_xcoords, xmin, xmax, inbounds_ycoords, ymin, ymax)\n",
    "    in_ROI_percentage = len(in_ROI)/len(inbounds)*100\n",
    "    data_list.append([column_name, in_ROI_percentage])"
   ]
  },
  {
   "cell_type": "code",
   "execution_count": 271,
   "id": "16c89fa3-5798-435f-ab90-26fdd66bef3a",
   "metadata": {},
   "outputs": [],
   "source": [
    "xminlist=[]\n",
    "xmaxlist=[]\n",
    "yminlist=[]\n",
    "ymaxlist=[]\n",
    "for i in range(len(ROI_meta['ROI'])-1):\n",
    "    meta = ROI_meta.iloc[i+1]\n",
    "    xminlist.append(meta['TLX'])\n",
    "    xmaxlist.append(meta['BRX'])\n",
    "    yminlist.append(meta['TLY'])\n",
    "    ymaxlist.append(meta['BRY'])"
   ]
  },
  {
   "cell_type": "code",
   "execution_count": 272,
   "id": "f45f8715-0e1b-40b7-9662-2f50945b418c",
   "metadata": {},
   "outputs": [],
   "source": [
    "processed_data = np.array(data_list)\n",
    "columns = processed_data.T[0]\n",
    "data = processed_data.T[1]"
   ]
  },
  {
   "cell_type": "code",
   "execution_count": 273,
   "id": "980a5871-5b7b-432e-9911-1655792aa8cc",
   "metadata": {},
   "outputs": [
    {
     "data": {
      "text/plain": [
       "array([['shelter', '0.20083996616390717'],\n",
       "       ['control1_box', '1.411321240063121'],\n",
       "       ['control1_open', '0.0'],\n",
       "       ['control2_box', '0.08459023205425648'],\n",
       "       ['food1_box', '0.16522302635158867'],\n",
       "       ['food2_box', '2.101894128646408'],\n",
       "       ['food2_open', '0.046005213924244746']], dtype='<U32')"
      ]
     },
     "execution_count": 273,
     "metadata": {},
     "output_type": "execute_result"
    }
   ],
   "source": [
    "processed_data"
   ]
  },
  {
   "cell_type": "code",
   "execution_count": 231,
   "id": "ec127f26-e68f-4221-975f-63ea933ac8ac",
   "metadata": {},
   "outputs": [
    {
     "name": "stdout",
     "output_type": "stream",
     "text": [
      "These results are valid. The percentage of data entries within the enclosure, but not within the 'tube', 'water_box', 'control_box', 'nectar1_box', or 'nectar2_box' regions is equal to 1 when added to the percentage of data entries within the 'tube', 'water_box', 'control_box', 'nectar1_box', or 'nectar2_box' regions.\n"
     ]
    }
   ],
   "source": [
    "# Validation \n",
    "# Define the regions of interest\n",
    "regions_of_interest = [\"tube\", \"water_box\", \"control_box\", \"nectar1_box\", \"nectar2_box\", \"enclosure\"]\n",
    "\n",
    "# Initialize empty lists to store the frames within each region\n",
    "tube_frames = []\n",
    "water_box_frames = []\n",
    "control_box_frames = []\n",
    "nectar1_box_frames = []\n",
    "nectar2_box_frames = []\n",
    "enclosure_frames = []\n",
    "\n",
    "# Iterate over the ROI_meta dataframe\n",
    "for i in range(len(ROI_meta)):\n",
    "    roi = ROI_meta.iloc[i]\n",
    "    xmin = roi['TLX']\n",
    "    xmax = roi['BRX']\n",
    "    ymin = roi['TLY']\n",
    "    ymax = roi['BRY']\n",
    "    if roi['ROI'] in regions_of_interest:\n",
    "        frames = inside(dlc_data_array[column_dict['thoraxx']], xmin, xmax, dlc_data_array[column_dict['thoraxy']], ymin, ymax)\n",
    "        if roi['ROI'] == \"tube\":\n",
    "            tube_frames.append(frames)\n",
    "        elif roi['ROI'] == \"water_box\":\n",
    "            water_box_frames.append(frames)\n",
    "        elif roi['ROI'] == \"control_box\":\n",
    "            control_box_frames.append(frames)\n",
    "        elif roi['ROI'] == \"nectar1_box\":\n",
    "            nectar1_box_frames.append(frames)\n",
    "        elif roi['ROI'] == \"nectar2_box\":\n",
    "            nectar2_box_frames.append(frames)\n",
    "        elif roi['ROI'] == \"enclosure\":\n",
    "            enclosure_frames.append(frames)\n",
    "\n",
    "# Flatten the lists to get a list of all frames within each region\n",
    "tube_frames = [item for sublist in tube_frames for item in sublist]\n",
    "water_box_frames = [item for sublist in water_box_frames for item in sublist]\n",
    "control_box_frames = [item for sublist in control_box_frames for item in sublist]\n",
    "nectar1_box_frames = [item for sublist in nectar1_box_frames for item in sublist]\n",
    "nectar2_box_frames = [item for sublist in nectar2_box_frames for item in sublist]\n",
    "enclosure_frames = [item for sublist in enclosure_frames for item in sublist]\n",
    "\n",
    "# Calculate the percentage of data entries within each region\n",
    "tube_percent = len(tube_frames) / len(inbounds)\n",
    "water_box_percent = len(water_box_frames) / len(inbounds)\n",
    "control_box_percent = len(control_box_frames) / len(inbounds)\n",
    "nectar1_box_percent = len(nectar1_box_frames) / len(inbounds)\n",
    "nectar2_box_percent = len(nectar2_box_frames) / len(inbounds)\n",
    "enclosure_percent = len(enclosure_frames) / len(inbounds)\n",
    "\n",
    "# Check if the sum of ROI % occupation equals 1, i.e., 100% of occupation points are accounted for. \n",
    "percent_sum = tube_percent + water_box_percent + control_box_percent + nectar1_box_percent + nectar2_box_percent\n",
    "\n",
    "if percent_sum + enclosure_percent == 1:\n",
    "    print(\"These results are valid. The percentage of data entries within the enclosure, but not within the 'tube', 'water_box', 'control_box', 'nectar1_box', or 'nectar2_box' regions is equal to 1 when added to the percentage of data entries within the 'tube', 'water_box', 'control_box', 'nectar1_box', or 'nectar2_box' regions.\")\n",
    "else:\n",
    "    print(\"The percentage of data entries within the enclosure, but not within the 'tube', 'water_box', 'control_box', 'nectar1_box', or 'nectar2_box' regions does not equal 1 when added to the percentage of data entries within the 'tube', 'water_box', 'control_box', 'nectar1_box', or 'nectar2_box' regions.\")"
   ]
  },
  {
   "cell_type": "code",
   "execution_count": null,
   "id": "fb7dce0c-f303-4f83-9084-957a685d2118",
   "metadata": {},
   "outputs": [],
   "source": []
  }
 ],
 "metadata": {
  "kernelspec": {
   "display_name": "Python 3 (ipykernel)",
   "language": "python",
   "name": "python3"
  },
  "language_info": {
   "codemirror_mode": {
    "name": "ipython",
    "version": 3
   },
   "file_extension": ".py",
   "mimetype": "text/x-python",
   "name": "python",
   "nbconvert_exporter": "python",
   "pygments_lexer": "ipython3",
   "version": "3.9.12"
  }
 },
 "nbformat": 4,
 "nbformat_minor": 5
}
