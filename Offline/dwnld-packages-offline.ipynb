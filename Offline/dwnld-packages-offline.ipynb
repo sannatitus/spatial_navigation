import os
import subprocess

# List of packages to download
packages = ['typing', 'TIME-python', 'pymba', 'opencv-python']

# Create a directory to save the packages
if not os.path.exists('packages'):
    os.makedirs('packages')

# Download the packages
for package in packages:
    subprocess.run(f'pip download {package} -d packages', shell=True)

# Output the list of packages downloaded
print(f'Successfully downloaded the following packages: {", ".join(packages)}')
