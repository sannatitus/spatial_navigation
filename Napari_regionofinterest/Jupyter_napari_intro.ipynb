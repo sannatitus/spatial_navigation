{
 "cells": [
  {
   "cell_type": "markdown",
   "id": "ed071e7d-717a-47e0-82c8-f154606bc841",
   "metadata": {},
   "source": [
    "# PYTHON ~ NAPARI INTRO SCRIPT"
   ]
  },
  {
   "cell_type": "markdown",
   "id": "69c70a4b-5434-401e-a16b-73c8bcc753c5",
   "metadata": {},
   "source": [
    "## Some general python commands"
   ]
  },
  {
   "cell_type": "code",
   "execution_count": 21,
   "id": "9ed10b0b-290e-493f-a168-a0c6a314c36d",
   "metadata": {},
   "outputs": [
    {
     "data": {
      "text/plain": [
       "(4, 6)"
      ]
     },
     "execution_count": 21,
     "metadata": {},
     "output_type": "execute_result"
    }
   ],
   "source": [
    "x= 2+2\n",
    "y= 3+3\n",
    "#cells will only print the very last line you create, unless you call:\n",
    "x,y\n",
    "#it's good practice to have each cell produce one output"
   ]
  },
  {
   "cell_type": "markdown",
   "id": "f0c56cc9-c52b-495a-8006-741741be53fa",
   "metadata": {
    "tags": []
   },
   "source": [
    "## Using terminal commands\n",
    "You can still use terminal commands in the python kernel with !"
   ]
  },
  {
   "cell_type": "code",
   "execution_count": 2,
   "id": "dc4c7fa3-22ec-4e47-b8a2-6585db698b5d",
   "metadata": {},
   "outputs": [
    {
     "name": "stdout",
     "output_type": "stream",
     "text": [
      "/Users/SannaTitus/Desktop\n"
     ]
    }
   ],
   "source": [
    "!pwd"
   ]
  },
  {
   "cell_type": "markdown",
   "id": "7e63e479-184a-4411-acb1-96b9c3228e54",
   "metadata": {},
   "source": [
    "## Some keyboard shortcuts (also available in help)\n",
    "  - ctrl enter = run specific cell\n",
    "  - ctrl shift = run cell and all subsequent automatically\n",
    "  - arrow keys = move among cells (when in command style)\n",
    "  - esc = exit to command style\n",
    "  - enter = jump into code editor style\n",
    "  - a = create new cell above current cell when in command style\n",
    "  - b = create new cell below current cell when in command style\n",
    "  - dd = delete cell when in command style \n",
    "  - z = undo\n",
    "\n",
    "## Different cell styles \n",
    "Cell for general text = use dropdown menu \"code-->markdown\"; or click \"m\" in command view\n",
    "  - You can run it and integrate into the notebook with control enter.\n",
    "Cell for code = use dropdown menu; or click \"y\" in command view\n",
    "\n",
    "## Bullet points \n",
    "  - create this with two spaces and a dash"
   ]
  },
  {
   "cell_type": "code",
   "execution_count": null,
   "id": "144edff0-e19a-4553-8b63-9c1a4a0a61e3",
   "metadata": {},
   "outputs": [],
   "source": []
  },
  {
   "cell_type": "markdown",
   "id": "0773e143-1540-41b3-a77e-f3b9d16a78bb",
   "metadata": {},
   "source": [
    "## Importing napari and GUI interface "
   ]
  },
  {
   "cell_type": "code",
   "execution_count": 13,
   "id": "0df8ca99-c971-456c-873f-611414fddfc8",
   "metadata": {},
   "outputs": [],
   "source": [
    "import napari"
   ]
  },
  {
   "cell_type": "code",
   "execution_count": 14,
   "id": "e0544041-9834-4691-9c63-81165fa524fe",
   "metadata": {
    "tags": []
   },
   "outputs": [],
   "source": [
    "%gui qt5"
   ]
  },
  {
   "cell_type": "code",
   "execution_count": null,
   "id": "93bd9ba0-5ed5-4793-a7ed-97eb77375e17",
   "metadata": {},
   "outputs": [],
   "source": [
    "napari.run()"
   ]
  },
  {
   "cell_type": "code",
   "execution_count": 17,
   "id": "52f30664-504d-4f46-a288-d1a82865a298",
   "metadata": {},
   "outputs": [],
   "source": [
    "viewer = napari.current_viewer()\n",
    "# semicolon prevents us from seeing cell's output if we dont want it\n",
    "viewer;"
   ]
  },
  {
   "cell_type": "code",
   "execution_count": 18,
   "id": "f69aa420-5703-4d8c-9f19-6e0f24e0c821",
   "metadata": {},
   "outputs": [],
   "source": [
    "viewer.layer\n",
    "# [] output = a list "
   ]
  },
  {
   "cell_type": "code",
   "execution_count": 22,
   "id": "444a46a6-0b9f-4bba-962e-ce958cbacf36",
   "metadata": {},
   "outputs": [
    {
     "ename": "AttributeError",
     "evalue": "'NoneType' object has no attribute 'layer'",
     "output_type": "error",
     "traceback": [
      "\u001b[0;31m---------------------------------------------------------------------------\u001b[0m",
      "\u001b[0;31mAttributeError\u001b[0m                            Traceback (most recent call last)",
      "Input \u001b[0;32mIn [22]\u001b[0m, in \u001b[0;36m<module>\u001b[0;34m\u001b[0m\n\u001b[0;32m----> 1\u001b[0m layer \u001b[38;5;241m=\u001b[39m \u001b[43mviewer\u001b[49m\u001b[38;5;241;43m.\u001b[39;49m\u001b[43mlayer\u001b[49m[\u001b[38;5;241m0\u001b[39m]\n\u001b[1;32m      2\u001b[0m layer\n",
      "\u001b[0;31mAttributeError\u001b[0m: 'NoneType' object has no attribute 'layer'"
     ]
    }
   ],
   "source": [
    "layer = viewer.layer[0]\n",
    "layer\n",
    "# <> output = one item"
   ]
  },
  {
   "cell_type": "markdown",
   "id": "d29c8b97-255c-46ba-a9c8-dbea2e5a4436",
   "metadata": {},
   "source": [
    "## View the image data for the whole video"
   ]
  },
  {
   "cell_type": "code",
   "execution_count": 20,
   "id": "9f9a4ccf-a3e3-4bc8-9515-2c2a54f583c4",
   "metadata": {},
   "outputs": [
    {
     "ename": "NameError",
     "evalue": "name 'layer' is not defined",
     "output_type": "error",
     "traceback": [
      "\u001b[0;31m---------------------------------------------------------------------------\u001b[0m",
      "\u001b[0;31mNameError\u001b[0m                                 Traceback (most recent call last)",
      "Input \u001b[0;32mIn [20]\u001b[0m, in \u001b[0;36m<module>\u001b[0;34m\u001b[0m\n\u001b[0;32m----> 1\u001b[0m \u001b[43mlayer\u001b[49m\u001b[38;5;241m.\u001b[39mdata\n",
      "\u001b[0;31mNameError\u001b[0m: name 'layer' is not defined"
     ]
    }
   ],
   "source": [
    "layer.data\n",
    "#shape array (frames, height, width, colour channels)"
   ]
  },
  {
   "cell_type": "markdown",
   "id": "62d764e1-3e9f-4588-81a2-c109b8a1d849",
   "metadata": {},
   "source": [
    "## pull out frames 21-51"
   ]
  },
  {
   "cell_type": "code",
   "execution_count": null,
   "id": "3ebe90d7-1df2-42e5-8d83-104ad723fe09",
   "metadata": {},
   "outputs": [
    {
     "ename": "NameError",
     "evalue": "name 'layer' is not defined",
     "output_type": "error",
     "traceback": [
      "\u001b[0;31m---------------------------------------------------------------------------\u001b[0m",
      "\u001b[0;31mNameError\u001b[0m                                 Traceback (most recent call last)",
      "Input \u001b[0;32mIn [20]\u001b[0m, in \u001b[0;36m<module>\u001b[0;34m\u001b[0m\n\u001b[0;32m----> 1\u001b[0m \u001b[43mlayer\u001b[49m\u001b[38;5;241m.\u001b[39mdata[\u001b[38;5;241m20\u001b[39m:\u001b[38;5;241m50\u001b[39m,:,:,\u001b[38;5;241m1\u001b[39m]\n",
      "\u001b[0;31mNameError\u001b[0m: name 'layer' is not defined"
     ]
    }
   ],
   "source": [
    "layer.data[20:50,:,:,1]\n",
    "#python counts from 0 so 20-50 is 21-51 frames"
   ]
  },
  {
   "cell_type": "markdown",
   "id": "74c174f9-79a8-4e0f-9f14-a43e38411357",
   "metadata": {},
   "source": [
    "## pull out one frame"
   ]
  },
  {
   "cell_type": "code",
   "execution_count": null,
   "id": "5b003bd5-d994-4372-ab06-e5b5948479b3",
   "metadata": {},
   "outputs": [],
   "source": [
    "layer.data[300,:,:,1]\n",
    "#frame 301 one colour channel"
   ]
  },
  {
   "cell_type": "code",
   "execution_count": 26,
   "id": "d80f082c-dd5e-4432-a708-fa521407fb9b",
   "metadata": {},
   "outputs": [
    {
     "data": {
      "text/plain": [
       "array([[255, 255, 255, ..., 100,  98,  98],\n",
       "       [255, 255, 255, ..., 102,  97, 100],\n",
       "       [255, 255, 255, ...,  97, 102,  98],\n",
       "       ...,\n",
       "       [101, 101, 101, ...,  67,  66,  74],\n",
       "       [103,  94, 102, ...,  66,  72,  74],\n",
       "       [102, 102, 103, ...,  73,  73,  65]], dtype=uint8)"
      ]
     },
     "execution_count": 26,
     "metadata": {},
     "output_type": "execute_result"
    }
   ],
   "source": [
    "#go compute the frame\n",
    "layer.data[300,:,:,1].compute()"
   ]
  },
  {
   "cell_type": "code",
   "execution_count": 28,
   "id": "b1126ad0-7e02-4334-82f1-c29db678f983",
   "metadata": {},
   "outputs": [
    {
     "ename": "IndexError",
     "evalue": "too many indices for array: array is 2-dimensional, but 4 were indexed",
     "output_type": "error",
     "traceback": [
      "\u001b[0;31m---------------------------------------------------------------------------\u001b[0m",
      "\u001b[0;31mIndexError\u001b[0m                                Traceback (most recent call last)",
      "Input \u001b[0;32mIn [39]\u001b[0m, in \u001b[0;36m<module>\u001b[0;34m\u001b[0m\n\u001b[1;32m      1\u001b[0m \u001b[38;5;66;03m#save the computed frame as a variable\u001b[39;00m\n\u001b[0;32m----> 2\u001b[0m frame300\u001b[38;5;241m=\u001b[39m\u001b[43mlayer\u001b[49m\u001b[38;5;241;43m.\u001b[39;49m\u001b[43mdata\u001b[49m\u001b[43m[\u001b[49m\u001b[38;5;241;43m300\u001b[39;49m\u001b[43m,\u001b[49m\u001b[43m:\u001b[49m\u001b[43m,\u001b[49m\u001b[43m:\u001b[49m\u001b[43m,\u001b[49m\u001b[38;5;241;43m1\u001b[39;49m\u001b[43m]\u001b[49m\u001b[38;5;241m.\u001b[39mcompute()\n\u001b[1;32m      3\u001b[0m \u001b[38;5;66;03m#look at the result by calling the variable\u001b[39;00m\n\u001b[1;32m      4\u001b[0m frame300\n",
      "\u001b[0;31mIndexError\u001b[0m: too many indices for array: array is 2-dimensional, but 4 were indexed"
     ]
    }
   ],
   "source": [
    "#save the computed frame as a variable\n",
    "frame300=layer.data[300,:,:,1].compute()\n",
    "#call the variable to view \n",
    "frame300"
   ]
  },
  {
   "cell_type": "code",
   "execution_count": 30,
   "id": "744f9c82-b3ae-491a-a850-d55d3676a91f",
   "metadata": {},
   "outputs": [
    {
     "data": {
      "text/plain": [
       "Viewer(axes=Axes(visible=False, labels=True, colored=True, dashed=False, arrows=True), camera=Camera(center=(0.0, 539.5, 719.5), zoom=0.73625, angles=(0.0, 0.0, 90.0), perspective=0.0, interactive=True), cursor=Cursor(position=(1.0, 1.0), scaled=True, size=1, style=<CursorStyle.STANDARD: 'standard'>), dims=Dims(ndim=2, ndisplay=2, last_used=0, range=((0.0, 1080.0, 1.0), (0.0, 1440.0, 1.0)), current_step=(540, 720), order=(0, 1), axis_labels=('0', '1')), grid=GridCanvas(stride=1, shape=(-1, -1), enabled=False), layers=[<Image layer 'frame300' at 0x7fc23d62a130>], scale_bar=ScaleBar(visible=False, colored=False, ticks=True, position=<Position.BOTTOM_RIGHT: 'bottom_right'>, font_size=10.0, unit=None), text_overlay=TextOverlay(visible=False, color=array([0.5, 0.5, 0.5, 1. ]), font_size=10.0, position=<TextOverlayPosition.TOP_LEFT: 'top_left'>, text=''), overlays=Overlays(interaction_box=InteractionBox(points=None, show=False, show_handle=False, show_vertices=False, selection_box_drag=None, selection_box_final=None, transform_start=<napari.utils.transforms.transforms.Affine object at 0x7fc23d173ca0>, transform_drag=<napari.utils.transforms.transforms.Affine object at 0x7fc23d1736a0>, transform_final=<napari.utils.transforms.transforms.Affine object at 0x7fc23d1733a0>, transform=<napari.utils.transforms.transforms.Affine object at 0x7fc23d173b20>, allow_new_selection=True, selected_vertex=None)), help='', status='Ready', tooltip=Tooltip(visible=False, text=''), theme='dark', title='napari', mouse_move_callbacks=[<function InteractionBoxMouseBindings.initialize_mouse_events.<locals>.mouse_move at 0x7fc22a562040>], mouse_drag_callbacks=[<function InteractionBoxMouseBindings.initialize_mouse_events.<locals>.mouse_drag at 0x7fc22a549c10>], mouse_double_click_callbacks=[], mouse_wheel_callbacks=[<function dims_scroll at 0x7fc2554cf160>], _persisted_mouse_event={}, _mouse_drag_gen={}, _mouse_wheel_gen={}, keymap={'Shift': <function InteractionBoxMouseBindings.initialize_key_events.<locals>.hold_to_lock_aspect_ratio at 0x7fc22a549550>, 'Control-Shift-R': <function InteractionBoxMouseBindings._reset_active_layer_affine at 0x7fc22a549310>, 'Control-Shift-A': <function InteractionBoxMouseBindings._transform_active_layer at 0x7fc22a5490d0>})"
      ]
     },
     "execution_count": 30,
     "metadata": {},
     "output_type": "execute_result"
    }
   ],
   "source": [
    "napari.view_image(frame300)"
   ]
  },
  {
   "cell_type": "code",
   "execution_count": 1,
   "id": "def03f3e-0fd7-4912-b831-ff5e4186ac5c",
   "metadata": {},
   "outputs": [
    {
     "name": "stdout",
     "output_type": "stream",
     "text": [
      "# conda environments:\n",
      "#\n",
      "base                     /Users/SannaTitus/opt/anaconda3\n",
      "SannaSnake            *  /Users/SannaTitus/opt/anaconda3/envs/SannaSnake\n",
      "\n"
     ]
    }
   ],
   "source": [
    "!conda env list"
   ]
  },
  {
   "cell_type": "raw",
   "id": "9efb8fb4-c813-472c-9046-193b08666ba9",
   "metadata": {},
   "source": [
    "!print env\n",
    "env"
   ]
  },
  {
   "cell_type": "code",
   "execution_count": 3,
   "id": "2e38fdf2-c35e-4319-b653-a6624968f5b4",
   "metadata": {},
   "outputs": [
    {
     "name": "stdout",
     "output_type": "stream",
     "text": [
      "usage: which [-as] program ...\n"
     ]
    }
   ],
   "source": [
    "!which"
   ]
  },
  {
   "cell_type": "code",
   "execution_count": 4,
   "id": "f1a84b74-99f5-487c-a049-a78161c2461d",
   "metadata": {},
   "outputs": [
    {
     "name": "stdout",
     "output_type": "stream",
     "text": [
      "/bin/bash: line 0: fg: no job control\n"
     ]
    }
   ],
   "source": [
    "!% env"
   ]
  },
  {
   "cell_type": "code",
   "execution_count": 5,
   "id": "5eeb9746-90e3-4642-9911-340dccb9235d",
   "metadata": {},
   "outputs": [
    {
     "name": "stdout",
     "output_type": "stream",
     "text": [
      "/bin/bash: line 0: fg: no job control\n"
     ]
    }
   ],
   "source": [
    "!%env"
   ]
  },
  {
   "cell_type": "code",
   "execution_count": 6,
   "id": "f5f2b9ad-64f1-4599-b228-9832c0c82420",
   "metadata": {},
   "outputs": [
    {
     "name": "stdout",
     "output_type": "stream",
     "text": [
      "usage: conda [-h] [-V] command ...\n",
      "\n",
      "conda is a tool for managing and deploying applications, environments and packages.\n",
      "\n",
      "Options:\n",
      "\n",
      "positional arguments:\n",
      "  command\n",
      "    clean        Remove unused packages and caches.\n",
      "    compare      Compare packages between conda environments.\n",
      "    config       Modify configuration values in .condarc. This is modeled\n",
      "                 after the git config command. Writes to the user .condarc\n",
      "                 file (/Users/SannaTitus/.condarc) by default.\n",
      "    create       Create a new conda environment from a list of specified\n",
      "                 packages.\n",
      "    help         Displays a list of available conda commands and their help\n",
      "                 strings.\n",
      "    info         Display information about current conda install.\n",
      "    init         Initialize conda for shell interaction. [Experimental]\n",
      "    install      Installs a list of packages into a specified conda\n",
      "                 environment.\n",
      "    list         List linked packages in a conda environment.\n",
      "    package      Low-level conda package utility. (EXPERIMENTAL)\n",
      "    remove       Remove a list of packages from a specified conda environment.\n",
      "    uninstall    Alias for conda remove.\n",
      "    run          Run an executable in a conda environment. [Experimental]\n",
      "    search       Search for packages and display associated information. The\n",
      "                 input is a MatchSpec, a query language for conda packages.\n",
      "                 See examples below.\n",
      "    update       Updates conda packages to the latest compatible version.\n",
      "    upgrade      Alias for conda update.\n",
      "\n",
      "optional arguments:\n",
      "  -h, --help     Show this help message and exit.\n",
      "  -V, --version  Show the conda version number and exit.\n",
      "\n",
      "conda commands available from other packages:\n",
      "  build\n",
      "  content-trust\n",
      "  convert\n",
      "  debug\n",
      "  develop\n",
      "  env\n",
      "  index\n",
      "  inspect\n",
      "  metapackage\n",
      "  pack\n",
      "  render\n",
      "  repo\n",
      "  server\n",
      "  skeleton\n",
      "  token\n",
      "  verify\n"
     ]
    }
   ],
   "source": [
    "!conda --help"
   ]
  },
  {
   "cell_type": "code",
   "execution_count": 7,
   "id": "6f453776-e555-44dc-a012-692a01a4ac5d",
   "metadata": {},
   "outputs": [
    {
     "name": "stdout",
     "output_type": "stream",
     "text": [
      "# conda environments:\n",
      "#\n",
      "base                     /Users/SannaTitus/opt/anaconda3\n",
      "SannaSnake            *  /Users/SannaTitus/opt/anaconda3/envs/SannaSnake\n",
      "\n"
     ]
    }
   ],
   "source": [
    "!conda env list"
   ]
  },
  {
   "cell_type": "code",
   "execution_count": 8,
   "id": "03616a7c-d4df-437e-a6b9-5b6a9657c9e4",
   "metadata": {},
   "outputs": [
    {
     "name": "stdout",
     "output_type": "stream",
     "text": [
      "\n",
      "CommandNotFoundError: No command 'conda SannaSnake'.\n",
      "\n",
      "\n",
      "Note: you may need to restart the kernel to use updated packages.\n"
     ]
    }
   ],
   "source": [
    "conda SannaSnake list"
   ]
  },
  {
   "cell_type": "code",
   "execution_count": 9,
   "id": "4ad339fd-66d5-4cad-8e92-588a72ce7c3f",
   "metadata": {},
   "outputs": [
    {
     "name": "stdout",
     "output_type": "stream",
     "text": [
      "usage: conda-env [-h] {create,export,list,remove,update,config} ...\n",
      "conda-env: error: argument {create,export,list,remove,update,config}: invalid choice: 'compare' (choose from 'create', 'export', 'list', 'remove', 'update', 'config')\n"
     ]
    }
   ],
   "source": [
    "!conda env compare"
   ]
  },
  {
   "cell_type": "code",
   "execution_count": 10,
   "id": "da73ed0c-cfaa-4d43-a3c7-d2d7cd683013",
   "metadata": {},
   "outputs": [
    {
     "name": "stdout",
     "output_type": "stream",
     "text": [
      "usage: conda compare [-h] [--json] [-v] [-q] [-n ENVIRONMENT | -p PATH] file\n",
      "conda compare: error: the following arguments are required: file\n"
     ]
    }
   ],
   "source": [
    "!conda compare"
   ]
  },
  {
   "cell_type": "code",
   "execution_count": 17,
   "id": "0753f6fd-7ebc-4566-ad3f-a2cd98af7d76",
   "metadata": {},
   "outputs": [
    {
     "name": "stdout",
     "output_type": "stream",
     "text": [
      "\n",
      "EnvironmentFileNotFound: '/Users/SannaTitus/Desktop/env' file not found\n",
      "\n"
     ]
    }
   ],
   "source": [
    "!conda compare env"
   ]
  },
  {
   "cell_type": "code",
   "execution_count": 12,
   "id": "8d55748c-e94b-4471-ae4d-1e909e2507e2",
   "metadata": {},
   "outputs": [],
   "source": [
    "!cd /Users/SannaTitus/opt/anaconda3"
   ]
  },
  {
   "cell_type": "code",
   "execution_count": 13,
   "id": "6f88ab62-0f26-4c7a-9401-3aa8b6fc7cb5",
   "metadata": {},
   "outputs": [
    {
     "name": "stdout",
     "output_type": "stream",
     "text": [
      "/Users/SannaTitus/desktop\n"
     ]
    }
   ],
   "source": [
    "!pwd"
   ]
  },
  {
   "cell_type": "code",
   "execution_count": 14,
   "id": "6f8f8bda-929e-43c9-88b8-15b48e94885f",
   "metadata": {},
   "outputs": [],
   "source": [
    "!cd .."
   ]
  },
  {
   "cell_type": "code",
   "execution_count": 15,
   "id": "7b63c3f6-16d6-468c-90e7-d35ea72afd0d",
   "metadata": {},
   "outputs": [
    {
     "data": {
      "text/plain": [
       "'/Users/SannaTitus/Desktop'"
      ]
     },
     "execution_count": 15,
     "metadata": {},
     "output_type": "execute_result"
    }
   ],
   "source": [
    "pwd"
   ]
  },
  {
   "cell_type": "code",
   "execution_count": 16,
   "id": "e4091b19-50fd-44a5-935a-ae4605fb5a48",
   "metadata": {},
   "outputs": [
    {
     "name": "stdout",
     "output_type": "stream",
     "text": [
      "[Errno 2] No such file or directory: 'opt/anaconda3'\n",
      "/Users/SannaTitus/Desktop\n"
     ]
    }
   ],
   "source": [
    "cd opt/anaconda3"
   ]
  },
  {
   "cell_type": "code",
   "execution_count": 18,
   "id": "4a6a55db-66c5-4757-8259-788aac6e1588",
   "metadata": {},
   "outputs": [
    {
     "name": "stdout",
     "output_type": "stream",
     "text": [
      "\n",
      "CommandNotFoundError: Your shell has not been properly configured to use 'conda activate'.\n",
      "To initialize your shell, run\n",
      "\n",
      "    $ conda init <SHELL_NAME>\n",
      "\n",
      "Currently supported shells are:\n",
      "  - bash\n",
      "  - fish\n",
      "  - tcsh\n",
      "  - xonsh\n",
      "  - zsh\n",
      "  - powershell\n",
      "\n",
      "See 'conda init --help' for more information and options.\n",
      "\n",
      "IMPORTANT: You may need to close and restart your shell after running 'conda init'.\n",
      "\n",
      "\n"
     ]
    }
   ],
   "source": [
    "!conda activate SannaSnake"
   ]
  },
  {
   "cell_type": "code",
   "execution_count": 19,
   "id": "3c761584-9874-4ddd-bd8a-6e4c5169b294",
   "metadata": {},
   "outputs": [],
   "source": [
    "!history"
   ]
  },
  {
   "cell_type": "code",
   "execution_count": null,
   "id": "09cd787b-73ac-4803-bebb-ee330df0a988",
   "metadata": {},
   "outputs": [],
   "source": []
  },
  {
   "cell_type": "code",
   "execution_count": null,
   "id": "81ac0c67-e12b-4d0e-87d6-a981b8dbbdd3",
   "metadata": {},
   "outputs": [],
   "source": []
  }
 ],
 "metadata": {
  "kernelspec": {
   "display_name": "Python 3 (ipykernel)",
   "language": "python",
   "name": "python3"
  },
  "language_info": {
   "codemirror_mode": {
    "name": "ipython",
    "version": 3
   },
   "file_extension": ".py",
   "mimetype": "text/x-python",
   "name": "python",
   "nbconvert_exporter": "python",
   "pygments_lexer": "ipython3",
   "version": "3.8.12"
  }
 },
 "nbformat": 4,
 "nbformat_minor": 5
}
