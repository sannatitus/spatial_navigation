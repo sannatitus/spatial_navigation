{
 "cells": [
  {
   "cell_type": "code",
   "execution_count": null,
   "id": "4ae3cfd8-90c1-44b2-be05-b5a65395048b",
   "metadata": {},
   "outputs": [],
   "source": [
    "#ffmpeg: efficiently cut -open-close experiments into their respective conditions "
   ]
  },
  {
   "cell_type": "code",
   "execution_count": 6,
   "id": "acbf5370-db88-4853-9e7c-23ea138d0f53",
   "metadata": {},
   "outputs": [],
   "source": [
    "from pathlib import Path\n",
    "import os\n",
    "from ffmpeg import FFmpeg, Progress"
   ]
  },
  {
   "cell_type": "code",
   "execution_count": null,
   "id": "9bae89ca-c26a-456f-babb-00623dc54eac",
   "metadata": {},
   "outputs": [],
   "source": [
    "ffmpeg -i parentfolder\\inputfilename -c:v codec -crf parameters parentfolder\\outputfilename"
   ]
  },
  {
   "cell_type": "code",
   "execution_count": null,
   "id": "63fb8a2f-ccbc-4dec-93c4-21d67ae2c8be",
   "metadata": {},
   "outputs": [],
   "source": [
    "ffmpeg -i X:\\raw\\LondonZoo\\Videos\\field-cricket_Gryllus-campestris\\ -c:v copy -ss 00:00:00 -to 00:30:00 X:\\processed\\LondonZoo\\field-cricket_Gryllus-campestris\\DLC_femaleandmale\\cricket-dlc-vids_2\\"
   ]
  },
  {
   "cell_type": "code",
   "execution_count": null,
   "id": "2b94e08e-b0c0-4713-924a-9f4aca41ab5d",
   "metadata": {},
   "outputs": [],
   "source": [
    "# hard code file names if wanting to do the same cut\n",
    "import subprocess\n",
    "\n",
    "# List of files\n",
    "files = [\n",
    "    \"cricketE_spotato-open-close.avi\",\n",
    "    \"cricketH_spotato-open-close.avi\",\n",
    "    \"cricketL_spotato-open-close.avi\",\n",
    "    \"cricketM_spotato-open-close.avi\",\n",
    "    \"cricketN_spotato-open-close.avi\",\n",
    "    \"cricketO_spotato-open-close.avi\",\n",
    "    \"cricketQ_spotato-open-close.avi\",\n",
    "    \"cricketV_spotato-open-close.avi\",\n",
    "    \"cricketW_spotato-open-close.avi\",\n",
    "    \"cricketX_spotato-open-close.avi\"\n",
    "]\n",
    "\n",
    "# Base input and output file paths\n",
    "input_path = \"X:\\\\raw\\\\LondonZoo\\\\Videos\\\\field-cricket_Gryllus-campestris\\\\\"\n",
    "output_path = \"X:\\\\processed\\\\LondonZoo\\\\field-cricket_Gryllus-campestris\\\\DLC_femaleandmale\\\\cricket-dlc-vids_2\\\\\"\n",
    "\n",
    "# Iterate over the list of files\n",
    "for file in files:\n",
    "    input_file = input_path + file\n",
    "    output_file = output_path + file\n",
    "    start_time = \"00:00:00\"\n",
    "    end_time = \"00:30:00\"\n",
    "    command = f'ffmpeg -i {input_file} -c:v copy -ss {start_time} -to {end_time} {output_file}'\n",
    "    subprocess.run(command, shell=True)\n"
   ]
  },
  {
   "cell_type": "code",
   "execution_count": null,
   "id": "6561ef47-d0b8-49e1-ae86-74d7d20bf04e",
   "metadata": {},
   "outputs": [],
   "source": [
    "#full iteration automatically of all files, in case I want to cut at the same place: \n",
    "import os\n",
    "\n",
    "# List of subject letters\n",
    "subject_letters = [\"E\", \"H\", \"L\", \"M\", \"N\", \"O\", \"Q\", \"V\", \"W\", \"X\"]\n",
    "\n",
    "# List of conditions\n",
    "conditions = [\"control1\", \"control2\", \"food1\", \"food2\"]\n",
    "\n",
    "# Base input and output file paths\n",
    "input_path = \"X:\\\\raw\\\\LondonZoo\\\\Videos\\\\field-cricket_Gryllus-campestris\\\\\"\n",
    "output_path = \"X:\\\\processed\\\\LondonZoo\\\\field-cricket_Gryllus-campestris\\\\DLC_femaleandmale\\\\cricket-dlc-vids_2\\\\\"\n",
    "\n",
    "# Iterate through all subject letters\n",
    "for subject_letter in subject_letters:\n",
    "    # Iterate through all conditions\n",
    "    for condition in conditions:\n",
    "        input_file = f\"cricket{subject_letter}_spotato-open-close.avi\"\n",
    "        output_file = f\"cricket{subject_letter}_spotato-open-close_{condition}.avi\"\n",
    "        input_file_path = os.path.join(input_path, input_file)\n",
    "        output_file_path = os.path.join(output_path, output_file)\n",
    "        start_time = \"00:00:00\"\n",
    "        end_time = \"00:30:00\"\n",
    "        command = f'ffmpeg -i {input_file_path} -c:v copy -ss {start_time} -to {end_time} {output_file_path}'\n",
    "        subprocess.run(command, shell=True)"
   ]
  },
  {
   "cell_type": "code",
   "execution_count": 1,
   "id": "898a6fd5-06b2-4555-842a-cd5d2b4969dd",
   "metadata": {},
   "outputs": [
    {
     "name": "stdin",
     "output_type": "stream",
     "text": [
      "Enter subject letter:  E\n",
      "Enter condition:  control1\n",
      "Enter start time (HH:MM:SS):  00:01:44\n",
      "Enter end time (HH:MM:SS):  00:31:44\n"
     ]
    },
    {
     "name": "stdout",
     "output_type": "stream",
     "text": [
      "Video cut successfully.\n"
     ]
    }
   ],
   "source": [
    "#very nice system of running through the options, but it doesnt write to ceph \n",
    "import os\n",
    "\n",
    "# List of subject letters\n",
    "subject_letters = [\"E\", \"H\", \"L\", \"M\", \"N\", \"O\", \"Q\", \"V\", \"W\", \"X\"]\n",
    "\n",
    "# List of conditions\n",
    "conditions = [\"control1\", \"control2\", \"nectar1\", \"nectar2\"]\n",
    "\n",
    "# Input subject letter\n",
    "subject_letter = input(\"Enter subject letter: \")\n",
    "\n",
    "# Input condition\n",
    "condition = input(\"Enter condition: \")\n",
    "\n",
    "# Input start time\n",
    "start_time = input(\"Enter start time (HH:MM:SS): \")\n",
    "\n",
    "# Input end time\n",
    "end_time = input(\"Enter end time (HH:MM:SS): \")\n",
    "\n",
    "# Check if subject letter is valid\n",
    "if subject_letter not in subject_letters:\n",
    "    print(\"Invalid subject letter.\")\n",
    "    exit()\n",
    "\n",
    "# Check if condition is valid\n",
    "if condition not in conditions:\n",
    "    print(\"Invalid condition.\")\n",
    "    exit()\n",
    "\n",
    "# Construct the file name\n",
    "file_name = f\"cricket{subject_letter}_spotato-open-close.avi\"\n",
    "\n",
    "# Construct the input file path\n",
    "input_file_path = os.path.join(r\"X:\\\\raw\\\\LondonZoo\\\\Videos\\\\field-cricket_Gryllus-campestris\\\\\", file_name)\n",
    "\n",
    "# Check if the file exists in the directory\n",
    "if not os.path.isfile(input_file_path):\n",
    "    print(f\"File {file_name} not found.\")\n",
    "    exit()\n",
    "\n",
    "# Construct the output file name\n",
    "output_file_name = f\"cricket{subject_letter}_spotato-open-close_{condition}.avi\"\n",
    "\n",
    "# Construct the output file path\n",
    "output_file_path = os.path.join(r\"X:\\\\processed\\\\LondonZoo\\\\field-cricket_Gryllus-campestris\\\\DLC_femaleandmale\\\\cricket-dlc-vids_2\\\\\", output_file_name)\n",
    "\n",
    "# Construct the ffmpeg command\n",
    "ffmpeg_command = f\"ffmpeg -i {input_file_path} -c:v copy -ss {start_time} -to {end_time} {output_file_path}\"\n",
    "\n",
    "# Run the ffmpeg command\n",
    "os.system(ffmpeg_command)\n",
    "\n",
    "print(\"Video cut successfully.\")"
   ]
  },
  {
   "cell_type": "code",
   "execution_count": null,
   "id": "3708be8b-6eab-4e2e-beff-01309b4b0bc6",
   "metadata": {},
   "outputs": [],
   "source": []
  }
 ],
 "metadata": {
  "kernelspec": {
   "display_name": "Python 3 (ipykernel)",
   "language": "python",
   "name": "python3"
  },
  "language_info": {
   "codemirror_mode": {
    "name": "ipython",
    "version": 3
   },
   "file_extension": ".py",
   "mimetype": "text/x-python",
   "name": "python",
   "nbconvert_exporter": "python",
   "pygments_lexer": "ipython3",
   "version": "3.9.12"
  }
 },
 "nbformat": 4,
 "nbformat_minor": 5
}
